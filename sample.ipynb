{
 "cells": [
  {
   "cell_type": "code",
   "execution_count": 202,
   "id": "initial_id",
   "metadata": {
    "collapsed": true,
    "ExecuteTime": {
     "end_time": "2024-02-28T08:53:29.623120Z",
     "start_time": "2024-02-28T08:53:29.617598Z"
    }
   },
   "outputs": [],
   "source": [
    "import pandas as pd\n",
    "from functions import count_by_time"
   ]
  },
  {
   "cell_type": "code",
   "outputs": [
    {
     "name": "stdout",
     "output_type": "stream",
     "text": [
      "<class 'pandas.core.frame.DataFrame'>\n",
      "RangeIndex: 65079 entries, 0 to 65078\n",
      "Data columns (total 7 columns):\n",
      " #   Column    Non-Null Count  Dtype \n",
      "---  ------    --------------  ----- \n",
      " 0     userID  65079 non-null  object\n",
      " 1   Track     63848 non-null  object\n",
      " 2   artist    57876 non-null  object\n",
      " 3   genre     63881 non-null  object\n",
      " 4     City    65079 non-null  object\n",
      " 5   time      65079 non-null  object\n",
      " 6   Day       65079 non-null  object\n",
      "dtypes: object(7)\n",
      "memory usage: 3.5+ MB\n"
     ]
    }
   ],
   "source": [
    "df = pd.read_csv('yandex_music_project.csv')\n",
    "df.info()"
   ],
   "metadata": {
    "collapsed": false,
    "ExecuteTime": {
     "end_time": "2024-02-28T08:53:29.961842Z",
     "start_time": "2024-02-28T08:53:29.795643Z"
    }
   },
   "id": "dd749928e418d73f",
   "execution_count": 203
  },
  {
   "cell_type": "code",
   "outputs": [
    {
     "data": {
      "text/plain": "Index(['user_id', 'track', 'artist', 'genre', 'city', 'time', 'day'], dtype='object')"
     },
     "execution_count": 204,
     "metadata": {},
     "output_type": "execute_result"
    }
   ],
   "source": [
    "df = df.rename(columns={\n",
    "    '  userID': 'user_id',\n",
    "    'Track': 'track',\n",
    "    '  City  ': 'city',\n",
    "    'Day': 'day'})\n",
    "df.columns"
   ],
   "metadata": {
    "collapsed": false,
    "ExecuteTime": {
     "end_time": "2024-02-28T08:53:29.978375Z",
     "start_time": "2024-02-28T08:53:29.963377Z"
    }
   },
   "id": "afc32c56fc43f48d",
   "execution_count": 204
  },
  {
   "cell_type": "code",
   "outputs": [
    {
     "data": {
      "text/plain": "user_id       0\ntrack      1231\nartist     7203\ngenre      1198\ncity          0\ntime          0\nday           0\ndtype: int64"
     },
     "execution_count": 205,
     "metadata": {},
     "output_type": "execute_result"
    }
   ],
   "source": [
    "df.isna().sum()"
   ],
   "metadata": {
    "collapsed": false,
    "ExecuteTime": {
     "end_time": "2024-02-28T08:53:30.011831Z",
     "start_time": "2024-02-28T08:53:29.979879Z"
    }
   },
   "id": "cb6cfe0ccb17d0f5",
   "execution_count": 205
  },
  {
   "cell_type": "code",
   "outputs": [
    {
     "name": "stdout",
     "output_type": "stream",
     "text": [
      "user_id    0\n",
      "track      0\n",
      "artist     0\n",
      "genre      0\n",
      "city       0\n",
      "time       0\n",
      "day        0\n",
      "dtype: int64 user_id    0\n",
      "track      0\n",
      "artist     0\n",
      "genre      0\n",
      "city       0\n",
      "time       0\n",
      "day        0\n",
      "dtype: int64\n"
     ]
    }
   ],
   "source": [
    "genre_df = df.dropna(subset=['genre'])\n",
    "genre_df = genre_df.fillna('unknown')\n",
    "df = df.fillna('unknown')\n",
    "print(df.isna().sum(), genre_df.isna().sum())"
   ],
   "metadata": {
    "collapsed": false,
    "ExecuteTime": {
     "end_time": "2024-02-28T08:53:30.141595Z",
     "start_time": "2024-02-28T08:53:30.014076Z"
    }
   },
   "id": "dfecd006cdbe57fe",
   "execution_count": 206
  },
  {
   "cell_type": "code",
   "outputs": [
    {
     "data": {
      "text/plain": "3826"
     },
     "execution_count": 207,
     "metadata": {},
     "output_type": "execute_result"
    }
   ],
   "source": [
    "df.duplicated().sum()"
   ],
   "metadata": {
    "collapsed": false,
    "ExecuteTime": {
     "end_time": "2024-02-28T08:53:30.208440Z",
     "start_time": "2024-02-28T08:53:30.142899Z"
    }
   },
   "id": "a0e484360433ffdf",
   "execution_count": 207
  },
  {
   "cell_type": "code",
   "outputs": [
    {
     "data": {
      "text/plain": "3755"
     },
     "execution_count": 208,
     "metadata": {},
     "output_type": "execute_result"
    }
   ],
   "source": [
    "genre_df.duplicated().sum()"
   ],
   "metadata": {
    "collapsed": false,
    "ExecuteTime": {
     "end_time": "2024-02-28T08:53:30.281010Z",
     "start_time": "2024-02-28T08:53:30.210118Z"
    }
   },
   "id": "3d8feb904f16580e",
   "execution_count": 208
  },
  {
   "cell_type": "code",
   "outputs": [
    {
     "name": "stdout",
     "output_type": "stream",
     "text": [
      "0 0\n"
     ]
    }
   ],
   "source": [
    "df = df.drop_duplicates().reset_index(drop=True)\n",
    "genre_df = genre_df.drop_duplicates().reset_index(drop=True)\n",
    "print(df.duplicated().sum(), genre_df.duplicated().sum())"
   ],
   "metadata": {
    "collapsed": false,
    "ExecuteTime": {
     "end_time": "2024-02-28T08:53:30.539647Z",
     "start_time": "2024-02-28T08:53:30.283521Z"
    }
   },
   "id": "489efeedc6eb4066",
   "execution_count": 209
  },
  {
   "cell_type": "code",
   "outputs": [
    {
     "data": {
      "text/plain": "['acid',\n 'acoustic',\n 'action',\n 'adult',\n 'africa',\n 'afrikaans',\n 'alternative',\n 'alternativepunk',\n 'ambient',\n 'americana',\n 'animated',\n 'anime',\n 'arabesk',\n 'arabic',\n 'arena',\n 'argentinetango',\n 'art',\n 'audiobook',\n 'author',\n 'avantgarde',\n 'axé',\n 'baile',\n 'balkan',\n 'beats',\n 'bigroom',\n 'black',\n 'bluegrass',\n 'blues',\n 'bollywood',\n 'bossa',\n 'brazilian',\n 'breakbeat',\n 'breaks',\n 'broadway',\n 'cantautori',\n 'cantopop',\n 'canzone',\n 'caribbean',\n 'caucasian',\n 'celtic',\n 'chamber',\n 'chanson',\n 'children',\n 'chill',\n 'chinese',\n 'choral',\n 'christian',\n 'christmas',\n 'classical',\n 'classicmetal',\n 'club',\n 'colombian',\n 'comedy',\n 'conjazz',\n 'contemporary',\n 'country',\n 'cuban',\n 'dance',\n 'dancehall',\n 'dancepop',\n 'dark',\n 'death',\n 'deep',\n 'deutschrock',\n 'deutschspr',\n 'dirty',\n 'disco',\n 'dnb',\n 'documentary',\n 'downbeat',\n 'downtempo',\n 'drum',\n 'dub',\n 'dubstep',\n 'eastern',\n 'easy',\n 'electronic',\n 'electropop',\n 'emo',\n 'entehno',\n 'epicmetal',\n 'estrada',\n 'ethnic',\n 'eurofolk',\n 'european',\n 'experimental',\n 'extrememetal',\n 'fado',\n 'fairytail',\n 'film',\n 'fitness',\n 'flamenco',\n 'folk',\n 'folklore',\n 'folkmetal',\n 'folkrock',\n 'folktronica',\n 'forró',\n 'frankreich',\n 'französisch',\n 'french',\n 'funk',\n 'future',\n 'gangsta',\n 'garage',\n 'german',\n 'ghazal',\n 'gitarre',\n 'glitch',\n 'gospel',\n 'gothic',\n 'grime',\n 'grunge',\n 'gypsy',\n 'handsup',\n \"hard'n'heavy\",\n 'hardcore',\n 'hardstyle',\n 'hardtechno',\n 'hip',\n 'hip-hop',\n 'hiphop',\n 'historisch',\n 'holiday',\n 'hop',\n 'horror',\n 'house',\n 'hymn',\n 'idm',\n 'independent',\n 'indian',\n 'indie',\n 'indipop',\n 'industrial',\n 'inspirational',\n 'instrumental',\n 'international',\n 'irish',\n 'jam',\n 'japanese',\n 'jazz',\n 'jewish',\n 'jpop',\n 'jungle',\n 'k-pop',\n 'karadeniz',\n 'karaoke',\n 'kayokyoku',\n 'korean',\n 'laiko',\n 'latin',\n 'latino',\n 'leftfield',\n 'local',\n 'lounge',\n 'loungeelectronic',\n 'lovers',\n 'malaysian',\n 'mandopop',\n 'marschmusik',\n 'meditative',\n 'mediterranean',\n 'melodic',\n 'metal',\n 'metalcore',\n 'mexican',\n 'middle',\n 'minimal',\n 'miscellaneous',\n 'modern',\n 'mood',\n 'mpb',\n 'muslim',\n 'native',\n 'neoklassik',\n 'neue',\n 'new',\n 'newage',\n 'newwave',\n 'nu',\n 'nujazz',\n 'numetal',\n 'oceania',\n 'old',\n 'opera',\n 'orchestral',\n 'other',\n 'piano',\n 'podcasts',\n 'pop',\n 'popdance',\n 'popelectronic',\n 'popeurodance',\n 'poprussian',\n 'post',\n 'posthardcore',\n 'postrock',\n 'power',\n 'progmetal',\n 'progressive',\n 'psychedelic',\n 'punjabi',\n 'punk',\n 'quebecois',\n 'ragga',\n 'ram',\n 'rancheras',\n 'rap',\n 'rave',\n 'reggae',\n 'reggaeton',\n 'regional',\n 'relax',\n 'religious',\n 'retro',\n 'rhythm',\n 'rnb',\n 'rnr',\n 'rock',\n 'rockabilly',\n 'rockalternative',\n 'rockindie',\n 'rockother',\n 'romance',\n 'roots',\n 'ruspop',\n 'rusrap',\n 'rusrock',\n 'russian',\n 'salsa',\n 'samba',\n 'scenic',\n 'schlager',\n 'self',\n 'sertanejo',\n 'shanson',\n 'shoegazing',\n 'showtunes',\n 'singer',\n 'ska',\n 'skarock',\n 'slow',\n 'smooth',\n 'soft',\n 'soul',\n 'soulful',\n 'sound',\n 'soundtrack',\n 'southern',\n 'specialty',\n 'speech',\n 'spiritual',\n 'sport',\n 'stonerrock',\n 'surf',\n 'swing',\n 'synthpop',\n 'synthrock',\n 'sängerportrait',\n 'tango',\n 'tanzorchester',\n 'taraftar',\n 'tatar',\n 'tech',\n 'techno',\n 'teen',\n 'thrash',\n 'top',\n 'traditional',\n 'tradjazz',\n 'trance',\n 'tribal',\n 'trip',\n 'triphop',\n 'tropical',\n 'türk',\n 'türkçe',\n 'ukrrock',\n 'unknown',\n 'urban',\n 'uzbek',\n 'variété',\n 'vi',\n 'videogame',\n 'vocal',\n 'western',\n 'world',\n 'worldbeat',\n 'ïîï',\n 'электроника']"
     },
     "execution_count": 210,
     "metadata": {},
     "output_type": "execute_result"
    }
   ],
   "source": [
    "sorted(df['genre'].unique())"
   ],
   "metadata": {
    "collapsed": false,
    "ExecuteTime": {
     "end_time": "2024-02-28T08:53:30.549583Z",
     "start_time": "2024-02-28T08:53:30.540761Z"
    }
   },
   "id": "dea86a2043d16a15",
   "execution_count": 210
  },
  {
   "cell_type": "code",
   "outputs": [],
   "source": [
    "df = df.replace({\"türk\": \"türkçe\",\n",
    "                \"soul\": \"soulful\",\n",
    "                \"new\": \"newage\",\n",
    "                \"latin\": \"latino\",\n",
    "                \"hip-hop\": \"hiphop\",\n",
    "                 \"hip\": \"hiphop\",\n",
    "                \"frankreich\": \"französisch\",\n",
    "                \"africa\": \"afrikaans\",\n",
    "                \"электроника\": \"electronic\"})\n",
    "genre_df = genre_df.replace({\"türk\": \"türkçe\",\n",
    "                \"soul\": \"soulful\",\n",
    "                \"new\": \"newage\",\n",
    "                \"latin\": \"latino\",\n",
    "                \"hip-hop\": \"hiphop\",\n",
    "                \"hip\": \"hiphop\",\n",
    "                \"frankreich\": \"französisch\",\n",
    "                \"africa\": \"afrikaans\",\n",
    "                \"электроника\": \"electronic\"})"
   ],
   "metadata": {
    "collapsed": false,
    "ExecuteTime": {
     "end_time": "2024-02-28T08:53:30.867437Z",
     "start_time": "2024-02-28T08:53:30.550777Z"
    }
   },
   "id": "5e8020f9eebb5c77",
   "execution_count": 211
  },
  {
   "cell_type": "markdown",
   "source": [
    "Закончили предобработку данных:\n",
    "1. Переименовали столбцы, чтобы с ними было удобней работать\n",
    "2. Удалили все явные дубликаты\n",
    "3. Убрали все неявные дубликаты"
   ],
   "metadata": {
    "collapsed": false
   },
   "id": "d2b32073a07cc90d"
  },
  {
   "cell_type": "markdown",
   "source": [
    "Проверим первую гипотезу.\n",
    "Активность пользователей зависит от дня недели. Причём в Москве и Петербурге это проявляется по-разному.\n",
    "Для разных гипотез я сделал 2 разных DataFrame. Для первой гипотезы нам не важны жанры, а только активность, поэтому нам нужно больше данных. \n",
    "Для двух других гипотез, я удалил строки с неизвестными жанрами."
   ],
   "metadata": {
    "collapsed": false
   },
   "id": "7814aaf9066e924"
  },
  {
   "cell_type": "code",
   "outputs": [
    {
     "data": {
      "text/plain": "day\nFriday       21840\nMonday       21354\nWednesday    18059\nName: user_id, dtype: int64"
     },
     "execution_count": 212,
     "metadata": {},
     "output_type": "execute_result"
    }
   ],
   "source": [
    "df.groupby('day')['user_id'].count()"
   ],
   "metadata": {
    "collapsed": false,
    "ExecuteTime": {
     "end_time": "2024-02-28T08:53:30.879422Z",
     "start_time": "2024-02-28T08:53:30.870354Z"
    }
   },
   "id": "59d4cc14177ffa1b",
   "execution_count": 212
  },
  {
   "cell_type": "code",
   "outputs": [
    {
     "data": {
      "text/plain": "day\nFriday       15945\nMonday       15740\nWednesday    11056\nName: user_id, dtype: int64"
     },
     "execution_count": 213,
     "metadata": {},
     "output_type": "execute_result"
    }
   ],
   "source": [
    "moscow_activity = df[df['city'] == 'Moscow']\n",
    "md = moscow_activity.groupby('day')['user_id'].count()\n",
    "md"
   ],
   "metadata": {
    "collapsed": false,
    "ExecuteTime": {
     "end_time": "2024-02-28T08:53:30.923682Z",
     "start_time": "2024-02-28T08:53:30.880434Z"
    }
   },
   "id": "63f5e7524fa2c70a",
   "execution_count": 213
  },
  {
   "cell_type": "code",
   "outputs": [
    {
     "data": {
      "text/plain": "day\nFriday       5895\nMonday       5614\nWednesday    7003\nName: user_id, dtype: int64"
     },
     "execution_count": 214,
     "metadata": {},
     "output_type": "execute_result"
    }
   ],
   "source": [
    "spb_activity = df[df['city'] == 'Saint-Petersburg']\n",
    "sd = spb_activity.groupby('day')['user_id'].count()\n",
    "sd"
   ],
   "metadata": {
    "collapsed": false,
    "ExecuteTime": {
     "end_time": "2024-02-28T08:53:30.937266Z",
     "start_time": "2024-02-28T08:53:30.924703Z"
    }
   },
   "id": "5e53c6d841289b85",
   "execution_count": 214
  },
  {
   "cell_type": "code",
   "outputs": [
    {
     "data": {
      "text/plain": "               city  Monday  Wednesday  Friday\n0            Moscow   15740      11056   15945\n1  Saint-Petersburg    5614       7003    5895",
      "text/html": "<div>\n<style scoped>\n    .dataframe tbody tr th:only-of-type {\n        vertical-align: middle;\n    }\n\n    .dataframe tbody tr th {\n        vertical-align: top;\n    }\n\n    .dataframe thead th {\n        text-align: right;\n    }\n</style>\n<table border=\"1\" class=\"dataframe\">\n  <thead>\n    <tr style=\"text-align: right;\">\n      <th></th>\n      <th>city</th>\n      <th>Monday</th>\n      <th>Wednesday</th>\n      <th>Friday</th>\n    </tr>\n  </thead>\n  <tbody>\n    <tr>\n      <th>0</th>\n      <td>Moscow</td>\n      <td>15740</td>\n      <td>11056</td>\n      <td>15945</td>\n    </tr>\n    <tr>\n      <th>1</th>\n      <td>Saint-Petersburg</td>\n      <td>5614</td>\n      <td>7003</td>\n      <td>5895</td>\n    </tr>\n  </tbody>\n</table>\n</div>"
     },
     "metadata": {},
     "output_type": "display_data"
    }
   ],
   "source": [
    "data = [['Moscow', md[1], md[2], md[0]],\n",
    "        ['Saint-Petersburg', sd[1], sd[2], sd[0]]]\n",
    "compresion = pd.DataFrame(columns=['city', 'Monday', 'Wednesday', 'Friday'], \n",
    "                          data = data)\n",
    "display(compresion)"
   ],
   "metadata": {
    "collapsed": false,
    "ExecuteTime": {
     "end_time": "2024-02-28T08:53:30.954436Z",
     "start_time": "2024-02-28T08:53:30.938662Z"
    }
   },
   "id": "36055be0d9b2f061",
   "execution_count": 215
  },
  {
   "cell_type": "markdown",
   "source": [
    "Как видно из этой таблицы, в Москве музыку слушали гораздо больше, чем в Санкт-Петербурге. Так что гипотеза подтвердилась. Тут еще можно заметить интересную особенность. В Санкт-Петербурге в среду виден пик слушателей, тогда как в Москве мы наблюдаем два пика в Понедельник и Пятницу. Чтобы как-то лучше проанализировать это нам нужны данные на всю неделю."
   ],
   "metadata": {
    "collapsed": false
   },
   "id": "ca7c10dfe77bb61e"
  },
  {
   "cell_type": "markdown",
   "source": [
    "Проверим вторую гипотезу.\n",
    "Утром в понедельник в Москве преобладают одни жанры музыки, а в Петербурге — другие. Это верно и для вечера пятницы."
   ],
   "metadata": {
    "collapsed": false
   },
   "id": "6f540a9d9cc50bd8"
  },
  {
   "cell_type": "markdown",
   "source": [
    "За утро мы будем считать промежуток с 8:00 до 11:00.\n",
    "За вечер мы будем считать промежуток с 17:00 до 20:00. "
   ],
   "metadata": {
    "collapsed": false
   },
   "id": "4542036d0375e943"
  },
  {
   "cell_type": "code",
   "outputs": [],
   "source": [
    "moscow_genres = genre_df[genre_df['city'] == 'Moscow']\n",
    "spb_genres = genre_df[genre_df['city'] == 'Saint-Petersburg']"
   ],
   "metadata": {
    "collapsed": false,
    "ExecuteTime": {
     "end_time": "2024-02-28T08:53:30.976119Z",
     "start_time": "2024-02-28T08:53:30.955653Z"
    }
   },
   "id": "7d688bc57424722f",
   "execution_count": 216
  },
  {
   "cell_type": "code",
   "outputs": [
    {
     "data": {
      "text/plain": "genre\npop           781\ndance         549\nelectronic    480\nrock          474\nhiphop        285\n             ... \norchestral      1\npodcasts        1\nretro           1\nrhythm          1\nworldbeat       1\nName: genre, Length: 152, dtype: int64"
     },
     "execution_count": 217,
     "metadata": {},
     "output_type": "execute_result"
    }
   ],
   "source": [
    "count_by_time('Moscow', 'Monday', '08:00', '12:00', moscow_genres)"
   ],
   "metadata": {
    "collapsed": false,
    "ExecuteTime": {
     "end_time": "2024-02-28T08:53:30.992011Z",
     "start_time": "2024-02-28T08:53:30.977051Z"
    }
   },
   "id": "96383f15668008d8",
   "execution_count": 217
  },
  {
   "cell_type": "code",
   "outputs": [
    {
     "data": {
      "text/plain": "genre\npop           218\ndance         182\nrock          162\nelectronic    147\nhiphop         80\n             ... \nbalkan          1\nchamber         1\nrussian         1\nemo             1\nadult           1\nName: genre, Length: 106, dtype: int64"
     },
     "execution_count": 218,
     "metadata": {},
     "output_type": "execute_result"
    }
   ],
   "source": [
    "count_by_time('Saint-Petersburg', 'Monday', '08:00', '12:00', spb_genres)"
   ],
   "metadata": {
    "collapsed": false,
    "ExecuteTime": {
     "end_time": "2024-02-28T08:53:31.002779Z",
     "start_time": "2024-02-28T08:53:30.992990Z"
    }
   },
   "id": "6bba5b22123a2945",
   "execution_count": 218
  },
  {
   "cell_type": "markdown",
   "source": [
    "Понедельник утро:\n",
    "6 самых популярных жанров одинаковые.\n",
    "Дальше в Москве появляется world, а в Питере jazz."
   ],
   "metadata": {
    "collapsed": false
   },
   "id": "de5809769026a096"
  },
  {
   "cell_type": "code",
   "outputs": [
    {
     "data": {
      "text/plain": "genre\npop           377\nrock          279\ndance         278\nelectronic    258\nhiphop        126\n             ... \nreggaeton       1\ndub             1\nreligious       1\naudiobook       1\nlounge          1\nName: genre, Length: 139, dtype: int64"
     },
     "execution_count": 219,
     "metadata": {},
     "output_type": "execute_result"
    }
   ],
   "source": [
    "count_by_time('Moscow', 'Monday', '17:00', '21:00', moscow_genres)"
   ],
   "metadata": {
    "collapsed": false,
    "ExecuteTime": {
     "end_time": "2024-02-28T08:53:31.016908Z",
     "start_time": "2024-02-28T08:53:31.003752Z"
    }
   },
   "id": "7b7a39265687cfc3",
   "execution_count": 219
  },
  {
   "cell_type": "code",
   "outputs": [
    {
     "data": {
      "text/plain": "genre\npop            143\nrock           119\nelectronic      99\ndance           80\nhiphop          51\n              ... \nprogressive      1\npunjabi          1\neuropean         1\nreligious        1\nchristian        1\nName: genre, Length: 89, dtype: int64"
     },
     "execution_count": 220,
     "metadata": {},
     "output_type": "execute_result"
    }
   ],
   "source": [
    "count_by_time('Saint-Petersburg', 'Monday', '17:00', '21:00', spb_genres)"
   ],
   "metadata": {
    "collapsed": false,
    "ExecuteTime": {
     "end_time": "2024-02-28T08:53:31.029775Z",
     "start_time": "2024-02-28T08:53:31.017984Z"
    }
   },
   "id": "2ea71548a75d57ca",
   "execution_count": 220
  },
  {
   "cell_type": "markdown",
   "source": [
    "Понедельник вечер:\n",
    "Из отличий можно отметить только то, что в Москве есть ruspop, а в Питере rusrap."
   ],
   "metadata": {
    "collapsed": false
   },
   "id": "3e40707268b12b19"
  },
  {
   "cell_type": "code",
   "outputs": [
    {
     "data": {
      "text/plain": "genre\npop           781\ndance         549\nelectronic    480\nrock          474\nhiphop        285\n             ... \norchestral      1\npodcasts        1\nretro           1\nrhythm          1\nworldbeat       1\nName: genre, Length: 152, dtype: int64"
     },
     "execution_count": 221,
     "metadata": {},
     "output_type": "execute_result"
    }
   ],
   "source": [
    "count_by_time('Moscow', 'Friday', '08:00', '12:00', moscow_genres)"
   ],
   "metadata": {
    "collapsed": false,
    "ExecuteTime": {
     "end_time": "2024-02-28T08:53:31.050961Z",
     "start_time": "2024-02-28T08:53:31.031578Z"
    }
   },
   "id": "3a79655adcd057cc",
   "execution_count": 221
  },
  {
   "cell_type": "code",
   "outputs": [
    {
     "data": {
      "text/plain": "genre\npop           218\ndance         182\nrock          162\nelectronic    147\nhiphop         80\n             ... \nbalkan          1\nchamber         1\nrussian         1\nemo             1\nadult           1\nName: genre, Length: 106, dtype: int64"
     },
     "execution_count": 222,
     "metadata": {},
     "output_type": "execute_result"
    }
   ],
   "source": [
    "count_by_time('Saint-Petersburg', 'Friday', '08:00', '12:00', spb_genres)"
   ],
   "metadata": {
    "collapsed": false,
    "ExecuteTime": {
     "end_time": "2024-02-28T08:53:31.063959Z",
     "start_time": "2024-02-28T08:53:31.052366Z"
    }
   },
   "id": "a3f1b08ea7c2801b",
   "execution_count": 222
  },
  {
   "cell_type": "markdown",
   "source": [
    "Пятница утро:\n",
    "Из отличий в Питере jazz, а в Москве world."
   ],
   "metadata": {
    "collapsed": false
   },
   "id": "bdf7bc6ebf66c0d1"
  },
  {
   "cell_type": "code",
   "outputs": [
    {
     "data": {
      "text/plain": "genre\npop           377\nrock          279\ndance         278\nelectronic    258\nhiphop        126\n             ... \nreggaeton       1\ndub             1\nreligious       1\naudiobook       1\nlounge          1\nName: genre, Length: 139, dtype: int64"
     },
     "execution_count": 223,
     "metadata": {},
     "output_type": "execute_result"
    }
   ],
   "source": [
    "count_by_time('Moscow', 'Friday', '17:00', '21:00', moscow_genres)"
   ],
   "metadata": {
    "collapsed": false,
    "ExecuteTime": {
     "end_time": "2024-02-28T08:53:31.079371Z",
     "start_time": "2024-02-28T08:53:31.065257Z"
    }
   },
   "id": "ffd9b1e0efd59c6c",
   "execution_count": 223
  },
  {
   "cell_type": "code",
   "outputs": [
    {
     "data": {
      "text/plain": "genre\npop            143\nrock           119\nelectronic      99\ndance           80\nhiphop          51\n              ... \nprogressive      1\npunjabi          1\neuropean         1\nreligious        1\nchristian        1\nName: genre, Length: 89, dtype: int64"
     },
     "execution_count": 224,
     "metadata": {},
     "output_type": "execute_result"
    }
   ],
   "source": [
    "count_by_time('Saint-Petersburg', 'Friday', '17:00', '21:00', spb_genres)"
   ],
   "metadata": {
    "collapsed": false,
    "ExecuteTime": {
     "end_time": "2024-02-28T08:53:31.089840Z",
     "start_time": "2024-02-28T08:53:31.080623Z"
    }
   },
   "id": "c2f2c4c53917245b",
   "execution_count": 224
  },
  {
   "cell_type": "markdown",
   "source": [
    "Пятница вечер:\n",
    "В Питере rusrap, в Москве ruspop."
   ],
   "metadata": {
    "collapsed": false
   },
   "id": "2d326a1d5f69792a"
  },
  {
   "cell_type": "markdown",
   "source": [
    "В итоге можно сказать, что гипотеза подтвердилась лишь отчасти. Разница в предпочтениях наблюдается только утром в том, что в Москве слушают больше world, а в Питере jazz, и вечером только в том, что в Москве ruspop, а в Питере rusrap.\n",
    "\n"
   ],
   "metadata": {
    "collapsed": false
   },
   "id": "94b106d8b4009717"
  },
  {
   "cell_type": "markdown",
   "source": [
    "Проверим третью гипотезу. \n",
    "Петербург — столица рэпа, музыку этого жанра там слушают чаще, чем в Москве. А Москва — город контрастов, в котором, тем не менее, преобладает поп-музыка."
   ],
   "metadata": {
    "collapsed": false
   },
   "id": "8a74c44dd1aabc8"
  },
  {
   "cell_type": "code",
   "outputs": [
    {
     "data": {
      "text/plain": "genre\npop           2431\ndance         1932\nrock          1879\nelectronic    1737\nhiphop         960\n              ... \nmexican          1\nmandopop         1\nleftfield        1\nlaiko            1\nworldbeat        1\nName: user_id, Length: 208, dtype: int64"
     },
     "execution_count": 225,
     "metadata": {},
     "output_type": "execute_result"
    }
   ],
   "source": [
    "spb_genres.groupby('genre')['user_id'].count().sort_values(ascending=False)"
   ],
   "metadata": {
    "collapsed": false,
    "ExecuteTime": {
     "end_time": "2024-02-28T08:53:31.101823Z",
     "start_time": "2024-02-28T08:53:31.091516Z"
    }
   },
   "id": "882687b0f026e5f4",
   "execution_count": 225
  },
  {
   "cell_type": "code",
   "outputs": [
    {
     "data": {
      "text/plain": "genre\npop            5892\ndance          4435\nrock           3965\nelectronic     3786\nhiphop         2095\n               ... \nmetalcore         1\nmarschmusik       1\nmalaysian         1\nlovers            1\nïîï               1\nName: user_id, Length: 262, dtype: int64"
     },
     "execution_count": 226,
     "metadata": {},
     "output_type": "execute_result"
    }
   ],
   "source": [
    "moscow_genres.groupby('genre')['user_id'].count().sort_values(ascending=False)"
   ],
   "metadata": {
    "collapsed": false,
    "ExecuteTime": {
     "end_time": "2024-02-28T08:53:31.112245Z",
     "start_time": "2024-02-28T08:53:31.102999Z"
    }
   },
   "id": "25195fb76e1c65d",
   "execution_count": 226
  },
  {
   "cell_type": "markdown",
   "source": [
    "Третье гипотеза не подтвердилась. В Москве действительно преобладает поп-музыка, но популярность рэпа в обоих городах одинаковая. "
   ],
   "metadata": {
    "collapsed": false
   },
   "id": "5a93ca1ea43f0ca0"
  }
 ],
 "metadata": {
  "kernelspec": {
   "display_name": "Python 3",
   "language": "python",
   "name": "python3"
  },
  "language_info": {
   "codemirror_mode": {
    "name": "ipython",
    "version": 2
   },
   "file_extension": ".py",
   "mimetype": "text/x-python",
   "name": "python",
   "nbconvert_exporter": "python",
   "pygments_lexer": "ipython2",
   "version": "2.7.6"
  }
 },
 "nbformat": 4,
 "nbformat_minor": 5
}
