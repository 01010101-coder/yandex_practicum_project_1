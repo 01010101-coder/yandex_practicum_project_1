{
 "cells": [
  {
   "cell_type": "code",
   "execution_count": 1,
   "id": "initial_id",
   "metadata": {
    "collapsed": true,
    "ExecuteTime": {
     "end_time": "2024-02-27T16:20:02.272511Z",
     "start_time": "2024-02-27T16:20:01.981494Z"
    }
   },
   "outputs": [],
   "source": [
    "import pandas as pd"
   ]
  },
  {
   "cell_type": "code",
   "outputs": [
    {
     "name": "stdout",
     "output_type": "stream",
     "text": [
      "<class 'pandas.core.frame.DataFrame'>\n",
      "RangeIndex: 65079 entries, 0 to 65078\n",
      "Data columns (total 7 columns):\n",
      " #   Column    Non-Null Count  Dtype \n",
      "---  ------    --------------  ----- \n",
      " 0     userID  65079 non-null  object\n",
      " 1   Track     63848 non-null  object\n",
      " 2   artist    57876 non-null  object\n",
      " 3   genre     63881 non-null  object\n",
      " 4     City    65079 non-null  object\n",
      " 5   time      65079 non-null  object\n",
      " 6   Day       65079 non-null  object\n",
      "dtypes: object(7)\n",
      "memory usage: 3.5+ MB\n"
     ]
    }
   ],
   "source": [
    "df = pd.read_csv('yandex_music_project.csv')\n",
    "df.info()"
   ],
   "metadata": {
    "collapsed": false,
    "ExecuteTime": {
     "end_time": "2024-02-27T16:20:02.357726Z",
     "start_time": "2024-02-27T16:20:02.273474Z"
    }
   },
   "id": "dd749928e418d73f",
   "execution_count": 2
  },
  {
   "cell_type": "code",
   "outputs": [
    {
     "data": {
      "text/plain": "Index(['user_id', 'track', 'artist', 'genre', 'city', 'time', 'day'], dtype='object')"
     },
     "execution_count": 3,
     "metadata": {},
     "output_type": "execute_result"
    }
   ],
   "source": [
    "df = df.rename(columns={\n",
    "    '  userID': 'user_id',\n",
    "    'Track': 'track',\n",
    "    '  City  ': 'city',\n",
    "    'Day': 'day'})\n",
    "df.columns"
   ],
   "metadata": {
    "collapsed": false,
    "ExecuteTime": {
     "end_time": "2024-02-27T16:20:02.367313Z",
     "start_time": "2024-02-27T16:20:02.358404Z"
    }
   },
   "id": "afc32c56fc43f48d",
   "execution_count": 3
  },
  {
   "cell_type": "code",
   "outputs": [
    {
     "data": {
      "text/plain": "user_id       0\ntrack      1231\nartist     7203\ngenre      1198\ncity          0\ntime          0\nday           0\ndtype: int64"
     },
     "execution_count": 4,
     "metadata": {},
     "output_type": "execute_result"
    }
   ],
   "source": [
    "df.isna().sum()"
   ],
   "metadata": {
    "collapsed": false,
    "ExecuteTime": {
     "end_time": "2024-02-27T16:20:02.380233Z",
     "start_time": "2024-02-27T16:20:02.368531Z"
    }
   },
   "id": "cb6cfe0ccb17d0f5",
   "execution_count": 4
  },
  {
   "cell_type": "code",
   "outputs": [
    {
     "name": "stdout",
     "output_type": "stream",
     "text": [
      "user_id    0\n",
      "track      0\n",
      "artist     0\n",
      "genre      0\n",
      "city       0\n",
      "time       0\n",
      "day        0\n",
      "dtype: int64 user_id    0\n",
      "track      0\n",
      "artist     0\n",
      "genre      0\n",
      "city       0\n",
      "time       0\n",
      "day        0\n",
      "dtype: int64\n"
     ]
    }
   ],
   "source": [
    "df = df.fillna('unknown')\n",
    "genre_df = df.dropna(subset=['genre'])\n",
    "genre_df = genre_df.fillna('unknown')\n",
    "print(df.isna().sum(), genre_df.isna().sum())"
   ],
   "metadata": {
    "collapsed": false,
    "ExecuteTime": {
     "end_time": "2024-02-27T16:20:02.444316Z",
     "start_time": "2024-02-27T16:20:02.381044Z"
    }
   },
   "id": "dfecd006cdbe57fe",
   "execution_count": 5
  },
  {
   "cell_type": "code",
   "outputs": [
    {
     "data": {
      "text/plain": "3826"
     },
     "execution_count": 6,
     "metadata": {},
     "output_type": "execute_result"
    }
   ],
   "source": [
    "df.duplicated().sum()"
   ],
   "metadata": {
    "collapsed": false,
    "ExecuteTime": {
     "end_time": "2024-02-27T16:20:02.476450Z",
     "start_time": "2024-02-27T16:20:02.445024Z"
    }
   },
   "id": "a0e484360433ffdf",
   "execution_count": 6
  },
  {
   "cell_type": "code",
   "outputs": [
    {
     "data": {
      "text/plain": "3826"
     },
     "execution_count": 7,
     "metadata": {},
     "output_type": "execute_result"
    }
   ],
   "source": [
    "genre_df.duplicated().sum()"
   ],
   "metadata": {
    "collapsed": false,
    "ExecuteTime": {
     "end_time": "2024-02-27T16:20:02.504128Z",
     "start_time": "2024-02-27T16:20:02.477269Z"
    }
   },
   "id": "3d8feb904f16580e",
   "execution_count": 7
  },
  {
   "cell_type": "code",
   "outputs": [
    {
     "name": "stdout",
     "output_type": "stream",
     "text": [
      "0 0\n"
     ]
    }
   ],
   "source": [
    "df = df.drop_duplicates().reset_index(drop=True)\n",
    "genre_df = genre_df.drop_duplicates().reset_index(drop=True)\n",
    "print(df.duplicated().sum(), genre_df.duplicated().sum())"
   ],
   "metadata": {
    "collapsed": false,
    "ExecuteTime": {
     "end_time": "2024-02-27T16:20:02.628523Z",
     "start_time": "2024-02-27T16:20:02.505068Z"
    }
   },
   "id": "489efeedc6eb4066",
   "execution_count": 8
  },
  {
   "cell_type": "code",
   "outputs": [
    {
     "data": {
      "text/plain": "['acid',\n 'acoustic',\n 'action',\n 'adult',\n 'africa',\n 'afrikaans',\n 'alternative',\n 'alternativepunk',\n 'ambient',\n 'americana',\n 'animated',\n 'anime',\n 'arabesk',\n 'arabic',\n 'arena',\n 'argentinetango',\n 'art',\n 'audiobook',\n 'author',\n 'avantgarde',\n 'axé',\n 'baile',\n 'balkan',\n 'beats',\n 'bigroom',\n 'black',\n 'bluegrass',\n 'blues',\n 'bollywood',\n 'bossa',\n 'brazilian',\n 'breakbeat',\n 'breaks',\n 'broadway',\n 'cantautori',\n 'cantopop',\n 'canzone',\n 'caribbean',\n 'caucasian',\n 'celtic',\n 'chamber',\n 'chanson',\n 'children',\n 'chill',\n 'chinese',\n 'choral',\n 'christian',\n 'christmas',\n 'classical',\n 'classicmetal',\n 'club',\n 'colombian',\n 'comedy',\n 'conjazz',\n 'contemporary',\n 'country',\n 'cuban',\n 'dance',\n 'dancehall',\n 'dancepop',\n 'dark',\n 'death',\n 'deep',\n 'deutschrock',\n 'deutschspr',\n 'dirty',\n 'disco',\n 'dnb',\n 'documentary',\n 'downbeat',\n 'downtempo',\n 'drum',\n 'dub',\n 'dubstep',\n 'eastern',\n 'easy',\n 'electronic',\n 'electropop',\n 'emo',\n 'entehno',\n 'epicmetal',\n 'estrada',\n 'ethnic',\n 'eurofolk',\n 'european',\n 'experimental',\n 'extrememetal',\n 'fado',\n 'fairytail',\n 'film',\n 'fitness',\n 'flamenco',\n 'folk',\n 'folklore',\n 'folkmetal',\n 'folkrock',\n 'folktronica',\n 'forró',\n 'frankreich',\n 'französisch',\n 'french',\n 'funk',\n 'future',\n 'gangsta',\n 'garage',\n 'german',\n 'ghazal',\n 'gitarre',\n 'glitch',\n 'gospel',\n 'gothic',\n 'grime',\n 'grunge',\n 'gypsy',\n 'handsup',\n \"hard'n'heavy\",\n 'hardcore',\n 'hardstyle',\n 'hardtechno',\n 'hip',\n 'hip-hop',\n 'hiphop',\n 'historisch',\n 'holiday',\n 'hop',\n 'horror',\n 'house',\n 'hymn',\n 'idm',\n 'independent',\n 'indian',\n 'indie',\n 'indipop',\n 'industrial',\n 'inspirational',\n 'instrumental',\n 'international',\n 'irish',\n 'jam',\n 'japanese',\n 'jazz',\n 'jewish',\n 'jpop',\n 'jungle',\n 'k-pop',\n 'karadeniz',\n 'karaoke',\n 'kayokyoku',\n 'korean',\n 'laiko',\n 'latin',\n 'latino',\n 'leftfield',\n 'local',\n 'lounge',\n 'loungeelectronic',\n 'lovers',\n 'malaysian',\n 'mandopop',\n 'marschmusik',\n 'meditative',\n 'mediterranean',\n 'melodic',\n 'metal',\n 'metalcore',\n 'mexican',\n 'middle',\n 'minimal',\n 'miscellaneous',\n 'modern',\n 'mood',\n 'mpb',\n 'muslim',\n 'native',\n 'neoklassik',\n 'neue',\n 'new',\n 'newage',\n 'newwave',\n 'nu',\n 'nujazz',\n 'numetal',\n 'oceania',\n 'old',\n 'opera',\n 'orchestral',\n 'other',\n 'piano',\n 'podcasts',\n 'pop',\n 'popdance',\n 'popelectronic',\n 'popeurodance',\n 'poprussian',\n 'post',\n 'posthardcore',\n 'postrock',\n 'power',\n 'progmetal',\n 'progressive',\n 'psychedelic',\n 'punjabi',\n 'punk',\n 'quebecois',\n 'ragga',\n 'ram',\n 'rancheras',\n 'rap',\n 'rave',\n 'reggae',\n 'reggaeton',\n 'regional',\n 'relax',\n 'religious',\n 'retro',\n 'rhythm',\n 'rnb',\n 'rnr',\n 'rock',\n 'rockabilly',\n 'rockalternative',\n 'rockindie',\n 'rockother',\n 'romance',\n 'roots',\n 'ruspop',\n 'rusrap',\n 'rusrock',\n 'russian',\n 'salsa',\n 'samba',\n 'scenic',\n 'schlager',\n 'self',\n 'sertanejo',\n 'shanson',\n 'shoegazing',\n 'showtunes',\n 'singer',\n 'ska',\n 'skarock',\n 'slow',\n 'smooth',\n 'soft',\n 'soul',\n 'soulful',\n 'sound',\n 'soundtrack',\n 'southern',\n 'specialty',\n 'speech',\n 'spiritual',\n 'sport',\n 'stonerrock',\n 'surf',\n 'swing',\n 'synthpop',\n 'synthrock',\n 'sängerportrait',\n 'tango',\n 'tanzorchester',\n 'taraftar',\n 'tatar',\n 'tech',\n 'techno',\n 'teen',\n 'thrash',\n 'top',\n 'traditional',\n 'tradjazz',\n 'trance',\n 'tribal',\n 'trip',\n 'triphop',\n 'tropical',\n 'türk',\n 'türkçe',\n 'ukrrock',\n 'unknown',\n 'urban',\n 'uzbek',\n 'variété',\n 'vi',\n 'videogame',\n 'vocal',\n 'western',\n 'world',\n 'worldbeat',\n 'ïîï',\n 'электроника']"
     },
     "execution_count": 9,
     "metadata": {},
     "output_type": "execute_result"
    }
   ],
   "source": [
    "sorted(df['genre'].unique())"
   ],
   "metadata": {
    "collapsed": false,
    "ExecuteTime": {
     "end_time": "2024-02-27T16:20:02.634952Z",
     "start_time": "2024-02-27T16:20:02.629394Z"
    }
   },
   "id": "dea86a2043d16a15",
   "execution_count": 9
  },
  {
   "cell_type": "code",
   "outputs": [],
   "source": [
    "df = df.replace({\"türk\": \"türkçe\",\n",
    "                \"soul\": \"soulful\",\n",
    "                \"new\": \"newage\",\n",
    "                \"latin\": \"latino\",\n",
    "                \"hip-hop\": \"hiphop\",\n",
    "                 \"hip\": \"hiphop\",\n",
    "                \"frankreich\": \"französisch\",\n",
    "                \"africa\": \"afrikaans\",\n",
    "                \"электроника\": \"electronic\"})\n",
    "genre_df = genre_df.replace({\"türk\": \"türkçe\",\n",
    "                \"soul\": \"soulful\",\n",
    "                \"new\": \"newage\",\n",
    "                \"latin\": \"latino\",\n",
    "                \"hip-hop\": \"hiphop\",\n",
    "                \"frankreich\": \"französisch\",\n",
    "                \"africa\": \"afrikaans\",\n",
    "                \"электроника\": \"electronic\"})"
   ],
   "metadata": {
    "collapsed": false,
    "ExecuteTime": {
     "end_time": "2024-02-27T16:20:02.831367Z",
     "start_time": "2024-02-27T16:20:02.637540Z"
    }
   },
   "id": "5e8020f9eebb5c77",
   "execution_count": 10
  },
  {
   "cell_type": "markdown",
   "source": [
    "Закончили предобработку данных:\n",
    "1. Переименовали столбцы, чтобы с ними было удобней работать\n",
    "2. Удалили все явные дубликаты\n",
    "3. Убрали все неявные дубликаты"
   ],
   "metadata": {
    "collapsed": false
   },
   "id": "d2b32073a07cc90d"
  },
  {
   "cell_type": "markdown",
   "source": [
    "Проверим первую гипотезу.\n",
    "Активность пользователей зависит от дня недели. Причём в Москве и Петербурге это проявляется по-разному.\n",
    "Для разных гипотез я сделал 2 разных DataFrame. Для первой гипотезы нам не важны жанры, а только активность, поэтому нам нужно больше данных. \n",
    "Для двух других гипотез, я удалил строки с неизвестными жанрами."
   ],
   "metadata": {
    "collapsed": false
   },
   "id": "7814aaf9066e924"
  },
  {
   "cell_type": "code",
   "outputs": [
    {
     "data": {
      "text/plain": "day\nFriday       21840\nMonday       21354\nWednesday    18059\nName: user_id, dtype: int64"
     },
     "execution_count": 11,
     "metadata": {},
     "output_type": "execute_result"
    }
   ],
   "source": [
    "df.groupby('day')['user_id'].count()"
   ],
   "metadata": {
    "collapsed": false,
    "ExecuteTime": {
     "end_time": "2024-02-27T16:20:02.838410Z",
     "start_time": "2024-02-27T16:20:02.831906Z"
    }
   },
   "id": "59d4cc14177ffa1b",
   "execution_count": 11
  },
  {
   "cell_type": "code",
   "outputs": [
    {
     "data": {
      "text/plain": "day\nFriday       15945\nMonday       15740\nWednesday    11056\nName: user_id, dtype: int64"
     },
     "execution_count": 22,
     "metadata": {},
     "output_type": "execute_result"
    }
   ],
   "source": [
    "moscow_activity = df[df['city'] == 'Moscow']\n",
    "md = moscow_activity.groupby('day')['user_id'].count()\n",
    "md"
   ],
   "metadata": {
    "collapsed": false,
    "ExecuteTime": {
     "end_time": "2024-02-27T16:23:45.120457Z",
     "start_time": "2024-02-27T16:23:44.977580Z"
    }
   },
   "id": "63f5e7524fa2c70a",
   "execution_count": 22
  },
  {
   "cell_type": "code",
   "outputs": [
    {
     "data": {
      "text/plain": "day\nFriday       5895\nMonday       5614\nWednesday    7003\nName: user_id, dtype: int64"
     },
     "execution_count": 26,
     "metadata": {},
     "output_type": "execute_result"
    }
   ],
   "source": [
    "spb_activity = df[df['city'] == 'Saint-Petersburg']\n",
    "sd = spb_activity.groupby('day')['user_id'].count()\n",
    "sd"
   ],
   "metadata": {
    "collapsed": false,
    "ExecuteTime": {
     "end_time": "2024-02-27T16:25:03.543758Z",
     "start_time": "2024-02-27T16:25:03.483722Z"
    }
   },
   "id": "5e53c6d841289b85",
   "execution_count": 26
  },
  {
   "cell_type": "code",
   "outputs": [
    {
     "data": {
      "text/plain": "               city  Monday  Wednesday  Friday\n0            Moscow   15740      11056   15945\n1  Saint-Petersburg    5614       7003    5895",
      "text/html": "<div>\n<style scoped>\n    .dataframe tbody tr th:only-of-type {\n        vertical-align: middle;\n    }\n\n    .dataframe tbody tr th {\n        vertical-align: top;\n    }\n\n    .dataframe thead th {\n        text-align: right;\n    }\n</style>\n<table border=\"1\" class=\"dataframe\">\n  <thead>\n    <tr style=\"text-align: right;\">\n      <th></th>\n      <th>city</th>\n      <th>Monday</th>\n      <th>Wednesday</th>\n      <th>Friday</th>\n    </tr>\n  </thead>\n  <tbody>\n    <tr>\n      <th>0</th>\n      <td>Moscow</td>\n      <td>15740</td>\n      <td>11056</td>\n      <td>15945</td>\n    </tr>\n    <tr>\n      <th>1</th>\n      <td>Saint-Petersburg</td>\n      <td>5614</td>\n      <td>7003</td>\n      <td>5895</td>\n    </tr>\n  </tbody>\n</table>\n</div>"
     },
     "metadata": {},
     "output_type": "display_data"
    }
   ],
   "source": [
    "data = [['Moscow', md[1], md[2], md[0]],\n",
    "        ['Saint-Petersburg', sd[1], sd[2], sd[0]]]\n",
    "compresion = pd.DataFrame(columns=['city', 'Monday', 'Wednesday', 'Friday'], \n",
    "                          data = data)\n",
    "display(compresion)"
   ],
   "metadata": {
    "collapsed": false,
    "ExecuteTime": {
     "end_time": "2024-02-27T16:26:10.006624Z",
     "start_time": "2024-02-27T16:26:09.971697Z"
    }
   },
   "id": "36055be0d9b2f061",
   "execution_count": 28
  },
  {
   "cell_type": "markdown",
   "source": [
    "Как видно из этой таблицы, в Москве музыку слушали гораздо больше, чем в Санкт-Петербурге. Так что гипотеза подтвердилась. Тут еще можно заметить интересную особенность. В Санкт-Петербурге в среду виден пик слушателей, тогда как в Москве мы наблюдаем два пика в Понедельник и Пятницу. Чтобы как-то лучше проанализировать это нам нужны данные на всю неделю."
   ],
   "metadata": {
    "collapsed": false
   },
   "id": "ca7c10dfe77bb61e"
  },
  {
   "cell_type": "markdown",
   "source": [
    "Проверим вторую гипотезу.\n",
    "Утром в понедельник в Москве преобладают одни жанры музыки, а в Петербурге — другие. Это верно и для вечера пятницы."
   ],
   "metadata": {
    "collapsed": false
   },
   "id": "6f540a9d9cc50bd8"
  },
  {
   "cell_type": "markdown",
   "source": [
    "За утро мы будем считать промежуток с 8:00 до 11:00.\n",
    "За вечер мы будем считать промежуток с 17:00 до 20:00. "
   ],
   "metadata": {
    "collapsed": false
   },
   "id": "4542036d0375e943"
  },
  {
   "cell_type": "code",
   "outputs": [],
   "source": [
    "moscow_genres = genre_df[genre_df['city'] == 'Moscow']\n",
    "spb_genres = genre_df[genre_df['city'] == 'Saint-Petersburg']"
   ],
   "metadata": {
    "collapsed": false,
    "ExecuteTime": {
     "end_time": "2024-02-27T16:33:11.682356Z",
     "start_time": "2024-02-27T16:33:11.349299Z"
    }
   },
   "id": "7d688bc57424722f",
   "execution_count": 30
  },
  {
   "cell_type": "code",
   "outputs": [
    {
     "data": {
      "text/plain": "genre\npop           2154\ndance         1669\nrock          1452\nelectronic    1432\nhip            770\n              ... \nhorror           1\nhop              1\nhistorisch       1\ngypsy            1\nworldbeat        1\nName: genre, Length: 214, dtype: int64"
     },
     "execution_count": 41,
     "metadata": {},
     "output_type": "execute_result"
    }
   ],
   "source": [
    "moscow_morning_monday = moscow_genres[moscow_genres['day'] == 'Monday']\n",
    "moscow_morning_monday = moscow_morning_monday[moscow_morning_monday['time'] >= \"08:00\"]\n",
    "moscow_morning_monday.groupby('genre')['genre'].count().sort_values(ascending=False)"
   ],
   "metadata": {
    "collapsed": false,
    "ExecuteTime": {
     "end_time": "2024-02-27T16:38:28.111877Z",
     "start_time": "2024-02-27T16:38:28.064406Z"
    }
   },
   "id": "3c928142f06c9b5",
   "execution_count": 41
  },
  {
   "cell_type": "code",
   "outputs": [],
   "source": [],
   "metadata": {
    "collapsed": false
   },
   "id": "811eba442bbea35"
  }
 ],
 "metadata": {
  "kernelspec": {
   "display_name": "Python 3",
   "language": "python",
   "name": "python3"
  },
  "language_info": {
   "codemirror_mode": {
    "name": "ipython",
    "version": 2
   },
   "file_extension": ".py",
   "mimetype": "text/x-python",
   "name": "python",
   "nbconvert_exporter": "python",
   "pygments_lexer": "ipython2",
   "version": "2.7.6"
  }
 },
 "nbformat": 4,
 "nbformat_minor": 5
}
